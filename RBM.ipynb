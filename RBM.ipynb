{
 "cells": [
  {
   "cell_type": "markdown",
   "metadata": {},
   "source": [
    "# Restricted Boltzmann Machine"
   ]
  },
  {
   "cell_type": "markdown",
   "metadata": {},
   "source": [
    "### Data and packages"
   ]
  },
  {
   "cell_type": "code",
   "execution_count": 2,
   "metadata": {
    "ExecuteTime": {
     "end_time": "2019-12-18T14:32:04.869870Z",
     "start_time": "2019-12-18T14:32:04.232574Z"
    }
   },
   "outputs": [],
   "source": [
    "import numpy as np\n",
    "import matplotlib.pyplot as plt\n",
    "from scipy.io import loadmat\n",
    "from sklearn.utils import shuffle\n",
    "FILE = loadmat('binaryalphadigs.mat')"
   ]
  },
  {
   "cell_type": "markdown",
   "metadata": {},
   "source": [
    "### Initiliztion of the RBM's weights and bias"
   ]
  },
  {
   "cell_type": "code",
   "execution_count": 12,
   "metadata": {
    "ExecuteTime": {
     "end_time": "2019-12-18T14:32:04.880840Z",
     "start_time": "2019-12-18T14:32:04.873858Z"
    }
   },
   "outputs": [],
   "source": [
    "def init_RBM(p,q):\n",
    "    RBM = {} \n",
    "    RBM['a'] = np.zeros((1,p))\n",
    "    RBM['b'] = np.zeros((1,q))\n",
    "    RBM['w'] = 0.01 * np.random.rand(p,q)\n",
    "    \n",
    "    return RBM"
   ]
  },
  {
   "cell_type": "markdown",
   "metadata": {},
   "source": [
    "### Convert input data to matrix"
   ]
  },
  {
   "cell_type": "code",
   "execution_count": 4,
   "metadata": {
    "ExecuteTime": {
     "end_time": "2019-12-18T14:32:05.014935Z",
     "start_time": "2019-12-18T14:32:04.882834Z"
    }
   },
   "outputs": [],
   "source": [
    "def lire_alpha_digit(FILE_dat, idx):\n",
    "     \n",
    "    imgs = FILE_dat[idx,:].flatten()\n",
    "    imgs_flatten = []\n",
    "    for img in imgs:\n",
    "        imgs_flatten.append(img.flatten())\n",
    "    \n",
    "    return np.array(imgs_flatten)"
   ]
  },
  {
   "cell_type": "markdown",
   "metadata": {},
   "source": [
    "### Get output values using an RBM structure and input data"
   ]
  },
  {
   "cell_type": "code",
   "execution_count": 5,
   "metadata": {
    "ExecuteTime": {
     "end_time": "2019-12-18T14:49:50.025412Z",
     "start_time": "2019-12-18T14:49:50.017435Z"
    }
   },
   "outputs": [],
   "source": [
    "def entree_sortie_RBM(RBM, donnee):\n",
    "    \n",
    "    b = RBM['b'].reshape(1,-1)\n",
    "    w = RBM['w']\n",
    "    n = donnee.shape[0]\n",
    "    sortie = 1 / (1 + np.exp(- b - donnee @ w ))\n",
    "    \n",
    "    return sortie"
   ]
  },
  {
   "cell_type": "markdown",
   "metadata": {},
   "source": [
    "### Get input values using and RBM structure and output data"
   ]
  },
  {
   "cell_type": "code",
   "execution_count": 6,
   "metadata": {
    "ExecuteTime": {
     "end_time": "2019-12-18T15:07:57.698761Z",
     "start_time": "2019-12-18T15:07:57.691780Z"
    }
   },
   "outputs": [],
   "source": [
    "def sortie_entree_RBM(RBM, donnee):\n",
    "    \n",
    "    a = RBM['a'].reshape(1,-1)\n",
    "    w = RBM['w']\n",
    "    n = donnee.shape[0]\n",
    "    entree = 1 / (1 + np.exp(- a - donnee @ w.T))\n",
    "                  \n",
    "    return entree"
   ]
  },
  {
   "cell_type": "markdown",
   "metadata": {},
   "source": [
    "### Using Contrastive-Divergence-1 to train the RBM (unsupervised learning):\n",
    "\n",
    "### Details [here](http://deeplearning.net/tutorial/rbm.html)"
   ]
  },
  {
   "cell_type": "code",
   "execution_count": 7,
   "metadata": {
    "ExecuteTime": {
     "end_time": "2019-12-18T15:09:06.207451Z",
     "start_time": "2019-12-18T15:09:06.187505Z"
    }
   },
   "outputs": [],
   "source": [
    "def train_RBM(RBM, donnee, n_hidden, n_iteration, learning_rate, size_batch):\n",
    "    \n",
    "    loss   = np.zeros(n_iteration)\n",
    "    donnee = shuffle(donnee)\n",
    "    n      = donnee.shape[0]\n",
    "    q      = n_hidden\n",
    "    p      = donnee.shape[1]\n",
    "    \n",
    "    for i in np.arange(0, n_iteration):\n",
    "        \n",
    "        for batch in np.arange(0, n, size_batch):\n",
    "            \n",
    "            index_batch = np.arange(batch, min(batch + size_batch,n))\n",
    "            x = donnee[index_batch,:]\n",
    "        \n",
    "            # tirage monte carlo\n",
    "            v_0   = x\n",
    "            p_hv0 = entree_sortie_RBM(RBM, v_0)\n",
    "            h_0   = (np.random.rand(v_0.shape[0], q) < p_hv0).astype('float')\n",
    "            p_vh0 = sortie_entree_RBM(RBM, h_0)\n",
    "            v_1   = (np.random.rand(v_0.shape[0], p) < p_vh0).astype('float')\n",
    "            p_hv1 = entree_sortie_RBM(RBM, v_1)\n",
    "            \n",
    "            # calcul gradient\n",
    "            d_a = np.sum(v_0 - v_1, axis=0) / v_0.shape[0]\n",
    "            d_b = np.sum(p_hv0 - p_hv1, axis=0) / v_0.shape[0]\n",
    "            d_W = (v_0.T @ p_hv0 - v_1.T @ p_hv1) / v_0.shape[0] # produit vectoriel\n",
    "\n",
    "            # mise a jour\n",
    "            RBM['a'] = RBM['a'] + learning_rate * d_a\n",
    "            RBM['b'] = RBM['b'] + learning_rate * d_b\n",
    "            RBM['w'] = RBM['w'] + learning_rate * d_W\n",
    "            \n",
    "        sortie = entree_sortie_RBM(RBM, donnee)\n",
    "        \n",
    "        entree_reconstruite = sortie_entree_RBM(RBM, sortie)\n",
    "\n",
    "        loss[i] = np.sum((entree_reconstruite - donnee)**2)/(n*p)\n",
    "        \n",
    "    return RBM, loss"
   ]
  },
  {
   "cell_type": "markdown",
   "metadata": {},
   "source": [
    "### Generate samples of images from the RBM using Gibbs sampling:"
   ]
  },
  {
   "cell_type": "code",
   "execution_count": 13,
   "metadata": {
    "ExecuteTime": {
     "end_time": "2019-12-18T15:32:55.792658Z",
     "start_time": "2019-12-18T15:32:55.784682Z"
    }
   },
   "outputs": [],
   "source": [
    "def generer_image(RBM, n_image, n_iteration, string):\n",
    "    \n",
    "    p = RBM[\"w\"].shape[0]\n",
    "    q = RBM[\"w\"].shape[1]\n",
    "    plt.figure(figsize=(20,10))\n",
    "    for i in range(n_image):\n",
    "        v = (np.random.rand(p) < 0.5).astype('float')\n",
    "        for j in range(n_iteration):\n",
    "            h = (np.random.rand(q) < entree_sortie_RBM(RBM, v)).astype('float')\n",
    "            v = (np.random.rand(p) < sortie_entree_RBM(RBM, h)).astype('float')\n",
    "        \n",
    "        plt.subplot(int(n_image/5),5,i+1)\n",
    "        plt.imshow(1-v.reshape(20,16),cmap='gray')\n",
    "        plt.axis('off')\n",
    "    plt.suptitle(string)\n",
    "    plt.show()\n",
    "        "
   ]
  },
  {
   "cell_type": "code",
   "execution_count": 14,
   "metadata": {
    "ExecuteTime": {
     "end_time": "2019-12-18T15:39:26.992818Z",
     "start_time": "2019-12-18T15:38:59.925150Z"
    }
   },
   "outputs": [
    {
     "data": {
      "image/png": "[encoded data removed]",
      "text/plain": [
       "<Figure size 432x288 with 1 Axes>"
      ]
     },
     "metadata": {
      "needs_background": "light"
     },
     "output_type": "display_data"
    }
   ],
   "source": [
    "# Hyper-parameters settings and training\n",
    "\n",
    "index         = [10,11,12]\n",
    "donnee        = lire_alpha_digit(FILE['dat'], index)\n",
    "n_hidden      = 200\n",
    "n_iteration   = 1000\n",
    "learning_rate = 0.1\n",
    "size_batch    = 10\n",
    "RBM           = init_RBM(donnee.shape[1], n_hidden)\n",
    "RBM, loss     = train_RBM(RBM, donnee, n_hidden, n_iteration, learning_rate, size_batch)\n",
    "\n",
    "plt.plot(loss)\n",
    "plt.show()"
   ]
  },
  {
   "cell_type": "code",
   "execution_count": 15,
   "metadata": {
    "ExecuteTime": {
     "end_time": "2019-12-18T15:39:29.384692Z",
     "start_time": "2019-12-18T15:39:27.220211Z"
    }
   },
   "outputs": [
    {
     "data": {
      "image/png": "[encoded data removed]",
      "text/plain": [
       "<Figure size 1440x720 with 20 Axes>"
      ]
     },
     "metadata": {
      "needs_background": "light"
     },
     "output_type": "display_data"
    }
   ],
   "source": [
    "# Images sampling\n",
    "\n",
    "n_iteration = 1000\n",
    "n_image = 20\n",
    "generer_image(RBM, n_image, n_iteration, str(FILE['classlabels'][0,index]))"
   ]
  }
 ],
 "metadata": {
  "kernelspec": {
   "display_name": "Python 3",
   "language": "python",
   "name": "python3"
  },
  "language_info": {
   "codemirror_mode": {
    "name": "ipython",
    "version": 3
   },
   "file_extension": ".py",
   "mimetype": "text/x-python",
   "name": "python",
   "nbconvert_exporter": "python",
   "pygments_lexer": "ipython3",
   "version": "3.7.3"
  },
  "toc": {
   "base_numbering": 1,
   "nav_menu": {},
   "number_sections": true,
   "sideBar": true,
   "skip_h1_title": false,
   "title_cell": "Table of Contents",
   "title_sidebar": "Contents",
   "toc_cell": false,
   "toc_position": {},
   "toc_section_display": true,
   "toc_window_display": false
  },
  "varInspector": {
   "cols": {
    "lenName": 16,
    "lenType": 16,
    "lenVar": 40
   },
   "kernels_config": {
    "python": {
     "delete_cmd_postfix": "",
     "delete_cmd_prefix": "del ",
     "library": "var_list.py",
     "varRefreshCmd": "print(var_dic_list())"
    },
    "r": {
     "delete_cmd_postfix": ") ",
     "delete_cmd_prefix": "rm(",
     "library": "var_list.r",
     "varRefreshCmd": "cat(var_dic_list()) "
    }
   },
   "types_to_exclude": [
    "module",
    "function",
    "builtin_function_or_method",
    "instance",
    "_Feature"
   ],
   "window_display": false
  }
 },
 "nbformat": 4,
 "nbformat_minor": 2
}
